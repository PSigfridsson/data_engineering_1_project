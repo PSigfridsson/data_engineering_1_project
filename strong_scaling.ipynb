{
 "cells": [
  {
   "cell_type": "code",
   "execution_count": 1,
   "id": "humanitarian-witness",
   "metadata": {},
   "outputs": [
    {
     "name": "stdout",
     "output_type": "stream",
     "text": [
      "Amount of songs longer than 240 sec: 48359424\n"
     ]
    }
   ],
   "source": [
    "from pyspark.sql import SparkSession\n",
    "\n",
    "spark_session = SparkSession\\\n",
    "        .builder\\\n",
    "        .master(\"spark://192.168.2.181:7077\") \\\n",
    "        .appName(\"strong_scaling_1_core\")\\\n",
    "        .config(\"spark.dynamicAllocation.enabled\", True)\\\n",
    "        .config(\"spark.shuffle.service.enabled\", True)\\\n",
    "        .config(\"spark.cores.max\", 1)\\\n",
    "        .getOrCreate()\n",
    "\n",
    "spark_context = spark_session.sparkContext\n",
    "\n",
    "df = spark_session.read\\\n",
    "    .option(\"header\", \"true\")\\\n",
    "    .csv('hdfs://192.168.2.181:9000/user/ubuntu/*')\n",
    "\n",
    "df = df.withColumn('Duration', df['Duration'].cast(\"float\"))\n",
    "df = df.filter(df['Duration'] >= 240)\n",
    "print(\"Amount of songs longer than 240 sec: \"+str(df.count()))\n",
    "\n",
    "# Release cores and stop application.\n",
    "spark_context.stop()"
   ]
  },
  {
   "cell_type": "code",
   "execution_count": 2,
   "id": "cosmetic-booking",
   "metadata": {},
   "outputs": [
    {
     "name": "stdout",
     "output_type": "stream",
     "text": [
      "Amount of songs longer than 240 sec: 48359424\n"
     ]
    }
   ],
   "source": [
    "from pyspark.sql import SparkSession\n",
    "\n",
    "spark_session = SparkSession\\\n",
    "        .builder\\\n",
    "        .master(\"spark://192.168.2.181:7077\") \\\n",
    "        .appName(\"strong_scaling_2_core\")\\\n",
    "        .config(\"spark.dynamicAllocation.enabled\", True)\\\n",
    "        .config(\"spark.shuffle.service.enabled\", True)\\\n",
    "        .config(\"spark.cores.max\", 2)\\\n",
    "        .getOrCreate()\n",
    "\n",
    "spark_context = spark_session.sparkContext\n",
    "\n",
    "df = spark_session.read\\\n",
    "    .option(\"header\", \"true\")\\\n",
    "    .csv('hdfs://192.168.2.181:9000/user/ubuntu/*')\n",
    "\n",
    "df = df.withColumn('Duration', df['Duration'].cast(\"float\"))\n",
    "df = df.filter(df['Duration'] >= 240)\n",
    "print(\"Amount of songs longer than 240 sec: \"+str(df.count()))\n",
    "\n",
    "# Release cores and stop application.\n",
    "spark_context.stop()"
   ]
  },
  {
   "cell_type": "code",
   "execution_count": 3,
   "id": "romantic-chest",
   "metadata": {},
   "outputs": [
    {
     "name": "stdout",
     "output_type": "stream",
     "text": [
      "Amount of songs longer than 240 sec: 48359424\n"
     ]
    }
   ],
   "source": [
    "from pyspark.sql import SparkSession\n",
    "\n",
    "spark_session = SparkSession\\\n",
    "        .builder\\\n",
    "        .master(\"spark://192.168.2.181:7077\") \\\n",
    "        .appName(\"strong_scaling_3_core\")\\\n",
    "        .config(\"spark.dynamicAllocation.enabled\", True)\\\n",
    "        .config(\"spark.shuffle.service.enabled\", True)\\\n",
    "        .config(\"spark.cores.max\", 3)\\\n",
    "        .getOrCreate()\n",
    "\n",
    "spark_context = spark_session.sparkContext\n",
    "\n",
    "df = spark_session.read\\\n",
    "    .option(\"header\", \"true\")\\\n",
    "    .csv('hdfs://192.168.2.181:9000/user/ubuntu/*')\n",
    "\n",
    "df = df.withColumn('Duration', df['Duration'].cast(\"float\"))\n",
    "df = df.filter(df['Duration'] >= 240)\n",
    "print(\"Amount of songs longer than 240 sec: \"+str(df.count()))\n",
    "\n",
    "# Release cores and stop application.\n",
    "spark_context.stop()"
   ]
  },
  {
   "cell_type": "code",
   "execution_count": 4,
   "id": "vietnamese-lodging",
   "metadata": {},
   "outputs": [
    {
     "name": "stdout",
     "output_type": "stream",
     "text": [
      "Amount of songs longer than 240 sec: 48359424\n"
     ]
    }
   ],
   "source": [
    "from pyspark.sql import SparkSession\n",
    "\n",
    "spark_session = SparkSession\\\n",
    "        .builder\\\n",
    "        .master(\"spark://192.168.2.181:7077\") \\\n",
    "        .appName(\"strong_scaling_4_core\")\\\n",
    "        .config(\"spark.dynamicAllocation.enabled\", True)\\\n",
    "        .config(\"spark.shuffle.service.enabled\", True)\\\n",
    "        .config(\"spark.cores.max\", 4)\\\n",
    "        .getOrCreate()\n",
    "\n",
    "spark_context = spark_session.sparkContext\n",
    "\n",
    "df = spark_session.read\\\n",
    "    .option(\"header\", \"true\")\\\n",
    "    .csv('hdfs://192.168.2.181:9000/user/ubuntu/*')\n",
    "\n",
    "df = df.withColumn('Duration', df['Duration'].cast(\"float\"))\n",
    "df = df.filter(df['Duration'] >= 240)\n",
    "print(\"Amount of songs longer than 240 sec: \"+str(df.count()))\n",
    "\n",
    "# Release cores and stop application.\n",
    "spark_context.stop()"
   ]
  },
  {
   "cell_type": "code",
   "execution_count": 5,
   "id": "improved-doctor",
   "metadata": {},
   "outputs": [
    {
     "name": "stdout",
     "output_type": "stream",
     "text": [
      "Amount of songs longer than 240 sec: 48359424\n"
     ]
    }
   ],
   "source": [
    "from pyspark.sql import SparkSession\n",
    "\n",
    "spark_session = SparkSession\\\n",
    "        .builder\\\n",
    "        .master(\"spark://192.168.2.181:7077\") \\\n",
    "        .appName(\"strong_scaling_5_core\")\\\n",
    "        .config(\"spark.dynamicAllocation.enabled\", True)\\\n",
    "        .config(\"spark.shuffle.service.enabled\", True)\\\n",
    "        .config(\"spark.cores.max\", 5)\\\n",
    "        .getOrCreate()\n",
    "\n",
    "spark_context = spark_session.sparkContext\n",
    "\n",
    "df = spark_session.read\\\n",
    "    .option(\"header\", \"true\")\\\n",
    "    .csv('hdfs://192.168.2.181:9000/user/ubuntu/*')\n",
    "\n",
    "df = df.withColumn('Duration', df['Duration'].cast(\"float\"))\n",
    "df = df.filter(df['Duration'] >= 240)\n",
    "print(\"Amount of songs longer than 240 sec: \"+str(df.count()))\n",
    "\n",
    "# Release cores and stop application.\n",
    "spark_context.stop()"
   ]
  },
  {
   "cell_type": "code",
   "execution_count": 6,
   "id": "speaking-employee",
   "metadata": {},
   "outputs": [
    {
     "name": "stdout",
     "output_type": "stream",
     "text": [
      "Amount of songs longer than 240 sec: 48359424\n"
     ]
    }
   ],
   "source": [
    "from pyspark.sql import SparkSession\n",
    "\n",
    "spark_session = SparkSession\\\n",
    "        .builder\\\n",
    "        .master(\"spark://192.168.2.181:7077\") \\\n",
    "        .appName(\"strong_scaling_6_core\")\\\n",
    "        .config(\"spark.dynamicAllocation.enabled\", True)\\\n",
    "        .config(\"spark.shuffle.service.enabled\", True)\\\n",
    "        .config(\"spark.cores.max\", 6)\\\n",
    "        .getOrCreate()\n",
    "\n",
    "spark_context = spark_session.sparkContext\n",
    "\n",
    "df = spark_session.read\\\n",
    "    .option(\"header\", \"true\")\\\n",
    "    .csv('hdfs://192.168.2.181:9000/user/ubuntu/*')\n",
    "\n",
    "df = df.withColumn('Duration', df['Duration'].cast(\"float\"))\n",
    "df = df.filter(df['Duration'] >= 240)\n",
    "print(\"Amount of songs longer than 240 sec: \"+str(df.count()))\n",
    "\n",
    "# Release cores and stop application.\n",
    "spark_context.stop()"
   ]
  },
  {
   "cell_type": "code",
   "execution_count": 7,
   "id": "analyzed-botswana",
   "metadata": {},
   "outputs": [
    {
     "name": "stdout",
     "output_type": "stream",
     "text": [
      "Amount of songs longer than 240 sec: 48359424\n"
     ]
    }
   ],
   "source": [
    "from pyspark.sql import SparkSession\n",
    "\n",
    "spark_session = SparkSession\\\n",
    "        .builder\\\n",
    "        .master(\"spark://192.168.2.181:7077\") \\\n",
    "        .appName(\"strong_scaling_7_core\")\\\n",
    "        .config(\"spark.dynamicAllocation.enabled\", True)\\\n",
    "        .config(\"spark.shuffle.service.enabled\", True)\\\n",
    "        .config(\"spark.cores.max\", 7)\\\n",
    "        .getOrCreate()\n",
    "\n",
    "spark_context = spark_session.sparkContext\n",
    "\n",
    "df = spark_session.read\\\n",
    "    .option(\"header\", \"true\")\\\n",
    "    .csv('hdfs://192.168.2.181:9000/user/ubuntu/*')\n",
    "\n",
    "df = df.withColumn('Duration', df['Duration'].cast(\"float\"))\n",
    "df = df.filter(df['Duration'] >= 240)\n",
    "print(\"Amount of songs longer than 240 sec: \"+str(df.count()))\n",
    "\n",
    "# Release cores and stop application.\n",
    "spark_context.stop()"
   ]
  },
  {
   "cell_type": "code",
   "execution_count": 8,
   "id": "fabulous-august",
   "metadata": {},
   "outputs": [
    {
     "name": "stdout",
     "output_type": "stream",
     "text": [
      "Amount of songs longer than 240 sec: 48359424\n"
     ]
    }
   ],
   "source": [
    "from pyspark.sql import SparkSession\n",
    "\n",
    "spark_session = SparkSession\\\n",
    "        .builder\\\n",
    "        .master(\"spark://192.168.2.181:7077\") \\\n",
    "        .appName(\"strong_scaling_8_core\")\\\n",
    "        .config(\"spark.dynamicAllocation.enabled\", True)\\\n",
    "        .config(\"spark.shuffle.service.enabled\", True)\\\n",
    "        .config(\"spark.cores.max\", 8)\\\n",
    "        .getOrCreate()\n",
    "\n",
    "spark_context = spark_session.sparkContext\n",
    "\n",
    "df = spark_session.read\\\n",
    "    .option(\"header\", \"true\")\\\n",
    "    .csv('hdfs://192.168.2.181:9000/user/ubuntu/*')\n",
    "\n",
    "df = df.withColumn('Duration', df['Duration'].cast(\"float\"))\n",
    "df = df.filter(df['Duration'] >= 240)\n",
    "print(\"Amount of songs longer than 240 sec: \"+str(df.count()))\n",
    "\n",
    "# Release cores and stop application.\n",
    "spark_context.stop()"
   ]
  }
 ],
 "metadata": {
  "kernelspec": {
   "display_name": "Python 3",
   "language": "python",
   "name": "python3"
  },
  "language_info": {
   "codemirror_mode": {
    "name": "ipython",
    "version": 3
   },
   "file_extension": ".py",
   "mimetype": "text/x-python",
   "name": "python",
   "nbconvert_exporter": "python",
   "pygments_lexer": "ipython3",
   "version": "3.8.5"
  }
 },
 "nbformat": 4,
 "nbformat_minor": 5
}
